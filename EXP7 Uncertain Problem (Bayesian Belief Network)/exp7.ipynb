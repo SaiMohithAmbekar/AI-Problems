{
 "cells": [
  {
   "cell_type": "code",
   "execution_count": 2,
   "id": "e06903d7",
   "metadata": {},
   "outputs": [
    {
     "name": "stdout",
     "output_type": "stream",
     "text": [
      "Select door 'A', 'B', or 'C': A\n",
      "\n",
      "This problem relies on conditional probabilities.\n",
      "It is suggested that you switch doors, you will have a higher probability\n",
      "of winning of you do.\n",
      "\n",
      "    The door I will now open is: 'C'\n",
      "    \n",
      "Would you like to select the third door? Type 'Yes' or 'No': Yes\n",
      "\n",
      "    The door you will switch to is: 'B' \n",
      "\n",
      "        Congrats, you win! The prize was behind the alternate, 'B'\n",
      "\n",
      "This is a check:\n",
      "Prize: 'B'\n",
      "Selection: 'A' \n",
      "Alternate: 'B' \n",
      "Door opened: 'C' \n"
     ]
    }
   ],
   "source": [
    "import random\n",
    "A = \"A\"\n",
    "B = \"B\"\n",
    "C = \"C\"\n",
    "doors = [\"A\", \"B\", \"C\"]\n",
    "prize = random.choice(doors)\n",
    "selection = input(\"Select door 'A', 'B', or 'C': \")\n",
    "print(\"\"\"\n",
    "This problem relies on conditional probabilities.\n",
    "It is suggested that you switch doors, you will have a higher probability\n",
    "of winning of you do.\"\"\")\n",
    "if selection == prize:\n",
    "    remaining = list(set(doors) - set(prize))\n",
    "    open_door = random.choice(list(set(doors) - set(random.choice(remaining))))\n",
    "    alternate = random.choice(list(set(doors) - set(open_door) - set(prize)))\n",
    "else:\n",
    "    open_door = random.choice(list(set(doors) - set(selection) - set(prize)))\n",
    "    alternate = random.choice(list(set(doors) - set(open_door) - set(selection)))\n",
    "    print(\"\"\"\n",
    "    The door I will now open is: %r\n",
    "    \"\"\" % open_door)\n",
    "    second_chance = input(\"Would you like to select the third door? Type 'Yes' or 'No': \")\n",
    "if second_chance == \"Yes\":\n",
    "    print(\"\"\"\n",
    "    The door you will switch to is: %r \"\"\" % alternate)\n",
    "    if alternate == prize:\n",
    "        print(\"\"\"\n",
    "        Congrats, you win! The prize was behind the alternate, %r\"\"\" % alternate)\n",
    "    else:\n",
    "        print(\"\"\"\n",
    "        Sorry, the prize was behind the original door %r\"\"\" % prize)\n",
    "if second_chance != \"Yes\":\n",
    "    print(\"\"\"\n",
    "    You decided to keep your initial door, %r\"\"\" % selection)\n",
    "    if selection != prize:\n",
    "        print(\"\"\"\n",
    "        Sorry, the prize was behind the alternate door, %r\"\"\" % prize)\n",
    "    else:\n",
    "        print(\"\"\"\n",
    "        Congrats, you win! The prize was behind your original\n",
    "        selection, %r\"\"\" % selection)\n",
    "print(\"\"\"\n",
    "This is a check:\"\"\")\n",
    "print(\"Prize: %r\" % prize)\n",
    "print(\"Selection: %r \" % selection)\n",
    "print(\"Alternate: %r \" % alternate)\n",
    "print(\"Door opened: %r \" % open_door)\n"
   ]
  },
  {
   "cell_type": "code",
   "execution_count": null,
   "id": "660dd19c",
   "metadata": {},
   "outputs": [],
   "source": []
  }
 ],
 "metadata": {
  "kernelspec": {
   "display_name": "Python 3 (ipykernel)",
   "language": "python",
   "name": "python3"
  },
  "language_info": {
   "codemirror_mode": {
    "name": "ipython",
    "version": 3
   },
   "file_extension": ".py",
   "mimetype": "text/x-python",
   "name": "python",
   "nbconvert_exporter": "python",
   "pygments_lexer": "ipython3",
   "version": "3.10.0"
  }
 },
 "nbformat": 4,
 "nbformat_minor": 5
}
